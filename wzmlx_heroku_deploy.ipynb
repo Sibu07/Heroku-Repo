{
  "nbformat": 4,
  "nbformat_minor": 0,
  "metadata": {
    "colab": {
      "provenance": [],
      "include_colab_link": true
    },
    "kernelspec": {
      "name": "python3",
      "display_name": "Python 3"
    },
    "language_info": {
      "name": "python"
    }
  },
  "cells": [
    {
      "cell_type": "markdown",
      "metadata": {
        "id": "view-in-github",
        "colab_type": "text"
      },
      "source": [
        "<a href=\"https://colab.research.google.com/github/Sibu07/Heroku-Repo/blob/main/wzmlx_heroku_deploy.ipynb\" target=\"_parent\"><img src=\"https://colab.research.google.com/assets/colab-badge.svg\" alt=\"Open In Colab\"/></a>"
      ]
    },
    {
      "cell_type": "code",
      "execution_count": null,
      "metadata": {
        "cellView": "form",
        "id": "3vxKZQk6wdhW"
      },
      "outputs": [],
      "source": [
        "#@title <center>𝙒𝙕𝙈𝙇-𝙓 𝙃𝙀𝙍𝙊𝙆𝙐</center><br>\n",
        "#@markdown <br><center><img src='https://te.legra.ph/file/8086f391e542ed5c6a4c2.jpg'  height=\"200\" width=\"400\" alt=\"WZML-X-logo\"/></center>\n",
        "\n",
        "#@markdown ---\n",
        "\n",
        "#@markdown 🔗 **Repo :** https://gitlab.com/mysterysd.sd/WZML-X <br>\n",
        "#@markdown 🤖 **Version :** _v1.3.3-hx_ <br>\n",
        "#@markdown 📄 **Channel :** https://telegram.me/WZML_X<br>\n",
        "#@markdown 🫂 **Community :** https://telegram.me/WZML_Support<br>\n",
        "\n",
        "#@markdown ---\n",
        "#@markdown <br><b>Deploy WZML-X in Heroku using Google Colab</b><br>"
      ]
    },
    {
      "cell_type": "code",
      "source": [
        "#@title <center><h3>***Install Heroku CLI***</h3></center><br>\n",
        "\n",
        "!curl -s https://cli-assets.heroku.com/install.sh | sh"
      ],
      "metadata": {
        "cellView": "form",
        "id": "8nBuBA_ZymAg"
      },
      "execution_count": null,
      "outputs": []
    },
    {
      "cell_type": "code",
      "source": [
        "#@title <center><h3>***Heroku Login***</h3></center><br>\n",
        "\n",
        "#@markdown ---\n",
        "Heroku_Email = \"\" #@param {type:\"string\"}\n",
        "Heroku_API = \"\" #@param {type:\"string\"}\n",
        "#@markdown ---\n",
        "\n",
        "from os import path as ospath, chmod\n",
        "\n",
        "netrc_path = ospath.expanduser(\"~/.netrc\")\n",
        "\n",
        "with open(netrc_path, \"w\") as netrc_file:\n",
        "    netrc_file.write(f\"machine api.heroku.com\\n\")\n",
        "    netrc_file.write(f\"  login {Heroku_Email}\\n\")\n",
        "    netrc_file.write(f\"  password {Heroku_API}\\n\")\n",
        "    netrc_file.write(f\"machine git.heroku.com\\n\")\n",
        "    netrc_file.write(f\"  login {Heroku_Email}\\n\")\n",
        "    netrc_file.write(f\"  password {Heroku_API}\\n\")\n",
        "\n",
        "chmod(netrc_path, 0o600)\n",
        "\n",
        "!git config --global user.email {Heroku_Email}\n",
        "!git config --global user.name \"WZMLX\"\n",
        "\n",
        "print(\"Heroku Email & Password Loaded!\")"
      ],
      "metadata": {
        "id": "SoWUSMrl5FXz",
        "cellView": "form"
      },
      "execution_count": null,
      "outputs": []
    },
    {
      "cell_type": "code",
      "source": [
        "#@title <center><h3>***Create Heroku App***</h3></center><br>\n",
        "\n",
        "#@markdown ---\n",
        "App_Name = \"\" #@param {type:\"string\"}\n",
        "Server_Region = \"eu\" #@param [\"eu\", \"us\"] {allow-input: true}\n",
        "#@markdown ---\n",
        "\n",
        "!heroku create --region {Server_Region} --stack container {App_Name}"
      ],
      "metadata": {
        "id": "rHvR9FzQ_4O9",
        "cellView": "form"
      },
      "execution_count": null,
      "outputs": []
    },
    {
      "cell_type": "code",
      "source": [
        "#@title <center><h3>***WZML-X Repo Config Setup***</h3></center><br>\n",
        "\n",
        "#@markdown #### ***Fill all these Variables for the `config.env`*** **(All are Mandatory)**\n",
        "\n",
        "#@markdown ---\n",
        "BOT_TOKEN = \"\"  # @param {type:\"string\"}\n",
        "TELEGRAM_API = \"\"  # @param {type:\"string\"}\n",
        "TELEGRAM_HASH = \"\"  # @param {type:\"string\"}\n",
        "OWNER_ID = \"\"  # @param {type:\"string\"}\n",
        "UPSTREAM_REPO = \"https://gitlab.com/mysterysd.sd/WZML-X\"  # @param {type:\"string\"}\n",
        "UPSTREAM_BRANCH = \"hk_wzmlx\"  # @param {type:\"string\"}\n",
        "DATABASE_URL = \"\"  # @param {type:\"string\"}\n",
        "BASE_URL = \"\"  # @param {type:\"string\"}\n",
        "TORRENT_TIMEOUT = \"0\"  # @param {type:\"string\"}\n",
        "#@markdown ---\n",
        "Upload_Config = False # @param {type:\"boolean\"}\n",
        "#@markdown <h6><i>(If you want to Upload config.env file Externally, Tick the Above CheckBox)</i></h6>\n",
        "\n",
        "#@markdown ---\n",
        "\n",
        "if Upload_Config:\n",
        "    from google.colab import files\n",
        "    conf_file = files.upload()\n",
        "    with open(\"config.env\", \"wb\") as config_file:\n",
        "        config_file.write(conf_file.read())\n",
        "    print(\"File Uploaded and Saved Successfully\")\n",
        "\n",
        "if not all([BOT_TOKEN, TELEGRAM_API, TELEGRAM_HASH, OWNER_ID, UPSTREAM_REPO, DATABASE_URL, BASE_URL]):\n",
        "    raise ValueError(\"Please fill in all Mandatory Variables.\")\n",
        "\n",
        "!git clone https://gitlab.com/mysterysd.sd/WZML-X\n",
        "%cd WZML-X\n",
        "\n",
        "with open(\"config.env\", \"w\") as config_file:\n",
        "    config_file.write(f\"BOT_TOKEN = \\\"{BOT_TOKEN}\\\"\\n\")\n",
        "    config_file.write(f\"TELEGRAM_API = \\\"{TELEGRAM_API}\\\"\\n\")\n",
        "    config_file.write(f\"TELEGRAM_HASH = \\\"{TELEGRAM_HASH}\\\"\\n\")\n",
        "    config_file.write(f\"OWNER_ID = \\\"{OWNER_ID}\\\"\\n\")\n",
        "    config_file.write(f\"UPSTREAM_REPO = \\\"{UPSTREAM_REPO}\\\"\\n\")\n",
        "    config_file.write(f\"UPSTREAM_BRANCH = \\\"{UPSTREAM_BRANCH}\\\"\\n\")\n",
        "    config_file.write(f\"DATABASE_URL = \\\"{DATABASE_URL}\\\"\\n\")\n",
        "    config_file.write(f\"BASE_URL = \\\"{BASE_URL}\\\"\\n\")\n",
        "    config_file.write(f\"TORRENT_TIMEOUT = \\\"{TORRENT_TIMEOUT}\\\"\\n\")"
      ],
      "metadata": {
        "cellView": "form",
        "id": "x8QikE2J4r6A"
      },
      "execution_count": null,
      "outputs": []
    },
    {
      "cell_type": "code",
      "source": [
        "# @title <center><h3>***Deploy Heroku App***</h3></center><br>\n",
        "\n",
        "#@markdown ---\n",
        "App_Name = \"\" #@param {type:\"string\"}\n",
        "#@markdown ---\n",
        "\n",
        "!git add . -f\n",
        "!git commit -m \"HK Setup\"\n",
        "!heroku git:remote -a {App_Name}\n",
        "!git push heroku main -f"
      ],
      "metadata": {
        "cellView": "form",
        "id": "NDbOYtC0ADR5"
      },
      "execution_count": null,
      "outputs": []
    },
    {
      "cell_type": "code",
      "source": [
        "# @title <center><h3>***Show Heroku App Logs***</h3></center><br>\n",
        "\n",
        "#@markdown ---\n",
        "App_Name = \"\" #@param {type:\"string\"}\n",
        "#@markdown ---\n",
        "\n",
        "!heroku logs -a {App_Name}"
      ],
      "metadata": {
        "cellView": "form",
        "id": "uLHCOrkZgYbG"
      },
      "execution_count": null,
      "outputs": []
    },
    {
      "cell_type": "code",
      "source": [
        "#@title <center><h3>***Heroku Logout***</h3></center><br>\n",
        "\n",
        "!heroku logout"
      ],
      "metadata": {
        "cellView": "form",
        "id": "jHhWiD3QAVTt"
      },
      "execution_count": null,
      "outputs": []
    }
  ]
}